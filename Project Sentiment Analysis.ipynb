{
 "cells": [
  {
   "cell_type": "markdown",
   "id": "3934fbee",
   "metadata": {},
   "source": [
    "### Text Classification Using Naive Bayes"
   ]
  },
  {
   "cell_type": "markdown",
   "id": "cba349d1",
   "metadata": {},
   "source": [
    "The assignment involved the creation of a text classification model using the Naives Bayes algorithm. \n",
    "The main objective of the task was to create a model that predicted correctly the sentiment of a customer review \n",
    "as either positive or negative. \n",
    "After completion, the model was able to successfully predict with an accuracy of 82%."
   ]
  },
  {
   "cell_type": "code",
   "execution_count": 1,
   "id": "b13aaeb1",
   "metadata": {},
   "outputs": [],
   "source": [
    "#Importing Libraries\n",
    "from sklearn.feature_extraction.text import TfidfVectorizer\n",
    "import matplotlib.pyplot as plt\n",
    "from nltk.corpus import stopwords\n",
    "from sklearn import naive_bayes\n",
    "import numpy as np\n",
    "import pandas as pd\n",
    "import seaborn as sns\n",
    "import os\n",
    "import warnings\n",
    "warnings.filterwarnings('ignore')"
   ]
  },
  {
   "cell_type": "markdown",
   "id": "5271737c",
   "metadata": {},
   "source": [
    "### Reading Document"
   ]
  },
  {
   "cell_type": "code",
   "execution_count": 5,
   "id": "062dfef6",
   "metadata": {},
   "outputs": [],
   "source": [
    "# Reading the data\n",
    "def read_data(corpus_file, use_sentiment=True):\n",
    "    X = []\n",
    "    Y = []\n",
    "    with open(corpus_file, encoding='utf-8') as f:\n",
    "        for line in f:\n",
    "            product, sentiment, _, doc = line.strip().split(maxsplit=3)\n",
    "            X.append(doc)\n",
    "            Y.append(sentiment if use_sentiment else product)\n",
    "    return X, Y"
   ]
  },
  {
   "cell_type": "code",
   "execution_count": 6,
   "id": "b877f728",
   "metadata": {},
   "outputs": [],
   "source": [
    "X, Y = read_data('all_sentiment_shuffled1.txt', use_sentiment=True)"
   ]
  },
  {
   "cell_type": "markdown",
   "id": "63216258",
   "metadata": {},
   "source": [
    "### Counting the positive and negative sentiments"
   ]
  },
  {
   "cell_type": "code",
   "execution_count": 7,
   "id": "c0deba11",
   "metadata": {},
   "outputs": [
    {
     "data": {
      "text/plain": [
       "pos    6000\n",
       "neg    5914\n",
       "dtype: int64"
      ]
     },
     "execution_count": 7,
     "metadata": {},
     "output_type": "execute_result"
    }
   ],
   "source": [
    "# Counting positive or negative sentiments\n",
    "idx = pd.Index(Y)\n",
    "pos_neg_counts= idx.value_counts()\n",
    "pos_neg_counts"
   ]
  },
  {
   "cell_type": "markdown",
   "id": "c7f289d6",
   "metadata": {},
   "source": [
    "### Transforming the text data to a dataframe"
   ]
  },
  {
   "cell_type": "code",
   "execution_count": 84,
   "id": "6120a516",
   "metadata": {},
   "outputs": [
    {
     "data": {
      "text/html": [
       "<div>\n",
       "<style scoped>\n",
       "    .dataframe tbody tr th:only-of-type {\n",
       "        vertical-align: middle;\n",
       "    }\n",
       "\n",
       "    .dataframe tbody tr th {\n",
       "        vertical-align: top;\n",
       "    }\n",
       "\n",
       "    .dataframe thead th {\n",
       "        text-align: right;\n",
       "    }\n",
       "</style>\n",
       "<table border=\"1\" class=\"dataframe\">\n",
       "  <thead>\n",
       "    <tr style=\"text-align: right;\">\n",
       "      <th></th>\n",
       "      <th>Text</th>\n",
       "      <th>Sentiment</th>\n",
       "    </tr>\n",
       "  </thead>\n",
       "  <tbody>\n",
       "    <tr>\n",
       "      <th>0</th>\n",
       "      <td>(0, 42127)\\t0.07533933722593666\\n  (0, 12222...</td>\n",
       "      <td>neg</td>\n",
       "    </tr>\n",
       "    <tr>\n",
       "      <th>1</th>\n",
       "      <td>(0, 29520)\\t0.1458356193781596\\n  (0, 9673)\\...</td>\n",
       "      <td>neg</td>\n",
       "    </tr>\n",
       "    <tr>\n",
       "      <th>2</th>\n",
       "      <td>(0, 12440)\\t0.1000067947473819\\n  (0, 36382)...</td>\n",
       "      <td>neg</td>\n",
       "    </tr>\n",
       "    <tr>\n",
       "      <th>3</th>\n",
       "      <td>(0, 31924)\\t0.1518658630339014\\n  (0, 18531)...</td>\n",
       "      <td>pos</td>\n",
       "    </tr>\n",
       "    <tr>\n",
       "      <th>4</th>\n",
       "      <td>(0, 8035)\\t0.5038300388728117\\n  (0, 40709)\\...</td>\n",
       "      <td>pos</td>\n",
       "    </tr>\n",
       "  </tbody>\n",
       "</table>\n",
       "</div>"
      ],
      "text/plain": [
       "                                                Text Sentiment\n",
       "0    (0, 42127)\\t0.07533933722593666\\n  (0, 12222...       neg\n",
       "1    (0, 29520)\\t0.1458356193781596\\n  (0, 9673)\\...       neg\n",
       "2    (0, 12440)\\t0.1000067947473819\\n  (0, 36382)...       neg\n",
       "3    (0, 31924)\\t0.1518658630339014\\n  (0, 18531)...       pos\n",
       "4    (0, 8035)\\t0.5038300388728117\\n  (0, 40709)\\...       pos"
      ]
     },
     "execution_count": 84,
     "metadata": {},
     "output_type": "execute_result"
    }
   ],
   "source": [
    "#Changing the data to dataframe for easier understanding\n",
    "z=pd.DataFrame(Y)\n",
    "w=pd.DataFrame(X)\n",
    "\n",
    "#Renaming the columns\n",
    "z.rename({0: 'Sentiment'}, axis=1, inplace= True)\n",
    "w.rename({0: 'Text'}, axis=1, inplace= True)\n",
    "\n",
    "# Merge the data\n",
    "df = pd.merge(w, z, left_index=True, how= 'outer', right_index=True)\n",
    "\n",
    "df.head(5)\n"
   ]
  },
  {
   "cell_type": "code",
   "execution_count": 32,
   "id": "447358b6",
   "metadata": {},
   "outputs": [
    {
     "data": {
      "text/html": [
       "<div>\n",
       "<style scoped>\n",
       "    .dataframe tbody tr th:only-of-type {\n",
       "        vertical-align: middle;\n",
       "    }\n",
       "\n",
       "    .dataframe tbody tr th {\n",
       "        vertical-align: top;\n",
       "    }\n",
       "\n",
       "    .dataframe thead th {\n",
       "        text-align: right;\n",
       "    }\n",
       "</style>\n",
       "<table border=\"1\" class=\"dataframe\">\n",
       "  <thead>\n",
       "    <tr style=\"text-align: right;\">\n",
       "      <th></th>\n",
       "      <th>Text</th>\n",
       "      <th>Sentiment</th>\n",
       "    </tr>\n",
       "  </thead>\n",
       "  <tbody>\n",
       "    <tr>\n",
       "      <th>count</th>\n",
       "      <td>11914</td>\n",
       "      <td>11914</td>\n",
       "    </tr>\n",
       "    <tr>\n",
       "      <th>unique</th>\n",
       "      <td>11278</td>\n",
       "      <td>2</td>\n",
       "    </tr>\n",
       "    <tr>\n",
       "      <th>top</th>\n",
       "      <td>polarizing filters are used to eliminate glare...</td>\n",
       "      <td>pos</td>\n",
       "    </tr>\n",
       "    <tr>\n",
       "      <th>freq</th>\n",
       "      <td>5</td>\n",
       "      <td>6000</td>\n",
       "    </tr>\n",
       "  </tbody>\n",
       "</table>\n",
       "</div>"
      ],
      "text/plain": [
       "                                                     Text Sentiment\n",
       "count                                               11914     11914\n",
       "unique                                              11278         2\n",
       "top     polarizing filters are used to eliminate glare...       pos\n",
       "freq                                                    5      6000"
      ]
     },
     "execution_count": 32,
     "metadata": {},
     "output_type": "execute_result"
    }
   ],
   "source": [
    "#Describing that data\n",
    "df.describe()"
   ]
  },
  {
   "cell_type": "code",
   "execution_count": 86,
   "id": "aa57a28a",
   "metadata": {},
   "outputs": [
    {
     "name": "stdout",
     "output_type": "stream",
     "text": [
      "<class 'pandas.core.frame.DataFrame'>\n",
      "RangeIndex: 11914 entries, 0 to 11913\n",
      "Data columns (total 2 columns):\n",
      " #   Column     Non-Null Count  Dtype \n",
      "---  ------     --------------  ----- \n",
      " 0   Text       11914 non-null  object\n",
      " 1   Sentiment  11914 non-null  object\n",
      "dtypes: object(2)\n",
      "memory usage: 186.3+ KB\n"
     ]
    }
   ],
   "source": [
    "df.info()"
   ]
  },
  {
   "cell_type": "markdown",
   "id": "be8ce4ab",
   "metadata": {},
   "source": [
    "### Using a count plot to visualize the number of positive and negative sentiments"
   ]
  },
  {
   "cell_type": "code",
   "execution_count": 85,
   "id": "ba1e9bae",
   "metadata": {},
   "outputs": [
    {
     "data": {
      "text/plain": [
       "<AxesSubplot:xlabel='Sentiment', ylabel='count'>"
      ]
     },
     "execution_count": 85,
     "metadata": {},
     "output_type": "execute_result"
    },
    {
     "data": {
      "image/png": "[encoded data removed]",
      "text/plain": [
       "<Figure size 432x288 with 1 Axes>"
      ]
     },
     "metadata": {
      "needs_background": "light"
     },
     "output_type": "display_data"
    }
   ],
   "source": [
    "# Creating a count plot\n",
    "sns.countplot(x=\"Sentiment\", data=df, palette='bright')"
   ]
  },
  {
   "cell_type": "markdown",
   "id": "18ea8b61",
   "metadata": {},
   "source": [
    "### Changing the categorical data to numerical "
   ]
  },
  {
   "cell_type": "code",
   "execution_count": 35,
   "id": "884d7784",
   "metadata": {},
   "outputs": [
    {
     "data": {
      "text/html": [
       "<div>\n",
       "<style scoped>\n",
       "    .dataframe tbody tr th:only-of-type {\n",
       "        vertical-align: middle;\n",
       "    }\n",
       "\n",
       "    .dataframe tbody tr th {\n",
       "        vertical-align: top;\n",
       "    }\n",
       "\n",
       "    .dataframe thead th {\n",
       "        text-align: right;\n",
       "    }\n",
       "</style>\n",
       "<table border=\"1\" class=\"dataframe\">\n",
       "  <thead>\n",
       "    <tr style=\"text-align: right;\">\n",
       "      <th></th>\n",
       "      <th>Sentiment</th>\n",
       "    </tr>\n",
       "  </thead>\n",
       "  <tbody>\n",
       "    <tr>\n",
       "      <th>0</th>\n",
       "      <td>0</td>\n",
       "    </tr>\n",
       "    <tr>\n",
       "      <th>1</th>\n",
       "      <td>0</td>\n",
       "    </tr>\n",
       "    <tr>\n",
       "      <th>2</th>\n",
       "      <td>0</td>\n",
       "    </tr>\n",
       "    <tr>\n",
       "      <th>3</th>\n",
       "      <td>1</td>\n",
       "    </tr>\n",
       "    <tr>\n",
       "      <th>4</th>\n",
       "      <td>1</td>\n",
       "    </tr>\n",
       "  </tbody>\n",
       "</table>\n",
       "</div>"
      ],
      "text/plain": [
       "   Sentiment\n",
       "0          0\n",
       "1          0\n",
       "2          0\n",
       "3          1\n",
       "4          1"
      ]
     },
     "execution_count": 35,
     "metadata": {},
     "output_type": "execute_result"
    }
   ],
   "source": [
    "# Changing the categorical data to numerical\n",
    "Sentiment = pd.get_dummies(df['Sentiment'], drop_first=True)\n",
    "Sentiment.rename({'pos': 'Sentiment'}, axis=1, inplace= True)\n",
    "Sentiment.head()"
   ]
  },
  {
   "cell_type": "code",
   "execution_count": 38,
   "id": "e37b2173",
   "metadata": {},
   "outputs": [],
   "source": [
    "# Removing the categorical Sentiment column\n",
    "df.drop('Sentiment', axis=1, inplace=True)"
   ]
  },
  {
   "cell_type": "code",
   "execution_count": 39,
   "id": "e9f4b8de",
   "metadata": {},
   "outputs": [],
   "source": [
    "# Joining the new created Sentiment column with table\n",
    "df = pd.concat([df, Sentiment], axis=1)"
   ]
  },
  {
   "cell_type": "code",
   "execution_count": 40,
   "id": "99419fe3",
   "metadata": {},
   "outputs": [
    {
     "data": {
      "text/html": [
       "<div>\n",
       "<style scoped>\n",
       "    .dataframe tbody tr th:only-of-type {\n",
       "        vertical-align: middle;\n",
       "    }\n",
       "\n",
       "    .dataframe tbody tr th {\n",
       "        vertical-align: top;\n",
       "    }\n",
       "\n",
       "    .dataframe thead th {\n",
       "        text-align: right;\n",
       "    }\n",
       "</style>\n",
       "<table border=\"1\" class=\"dataframe\">\n",
       "  <thead>\n",
       "    <tr style=\"text-align: right;\">\n",
       "      <th></th>\n",
       "      <th>Text</th>\n",
       "      <th>Sentiment</th>\n",
       "    </tr>\n",
       "  </thead>\n",
       "  <tbody>\n",
       "    <tr>\n",
       "      <th>0</th>\n",
       "      <td>i bought this album because i loved the title ...</td>\n",
       "      <td>0</td>\n",
       "    </tr>\n",
       "    <tr>\n",
       "      <th>1</th>\n",
       "      <td>i was misled and thought i was buying the enti...</td>\n",
       "      <td>0</td>\n",
       "    </tr>\n",
       "    <tr>\n",
       "      <th>2</th>\n",
       "      <td>i have introduced many of my ell , high school...</td>\n",
       "      <td>0</td>\n",
       "    </tr>\n",
       "    <tr>\n",
       "      <th>3</th>\n",
       "      <td>anything you purchase in the left behind serie...</td>\n",
       "      <td>1</td>\n",
       "    </tr>\n",
       "    <tr>\n",
       "      <th>4</th>\n",
       "      <td>i loved these movies , and i cant wiat for the...</td>\n",
       "      <td>1</td>\n",
       "    </tr>\n",
       "  </tbody>\n",
       "</table>\n",
       "</div>"
      ],
      "text/plain": [
       "                                                Text  Sentiment\n",
       "0  i bought this album because i loved the title ...          0\n",
       "1  i was misled and thought i was buying the enti...          0\n",
       "2  i have introduced many of my ell , high school...          0\n",
       "3  anything you purchase in the left behind serie...          1\n",
       "4  i loved these movies , and i cant wiat for the...          1"
      ]
     },
     "execution_count": 40,
     "metadata": {},
     "output_type": "execute_result"
    }
   ],
   "source": [
    "df.head()"
   ]
  },
  {
   "cell_type": "markdown",
   "id": "3d08d408",
   "metadata": {},
   "source": [
    "### Eliminating unnecessary words and matching unique names"
   ]
  },
  {
   "cell_type": "code",
   "execution_count": 41,
   "id": "4e1b9f6d",
   "metadata": {},
   "outputs": [],
   "source": [
    "# Eliminating commonly used words and finding frequencies and matching unique names\n",
    "stopset = set(stopwords.words('english'))\n",
    "vectorizer = TfidfVectorizer(use_idf=True, lowercase=True, \n",
    "                            strip_accents='ascii', stop_words=stopset)"
   ]
  },
  {
   "cell_type": "code",
   "execution_count": 44,
   "id": "f3a44080",
   "metadata": {},
   "outputs": [],
   "source": [
    "# Establishing dependent(y) and independent(X) variables\n",
    "X= vectorizer.fit_transform(df['Text'])\n",
    "y = df['Sentiment']"
   ]
  },
  {
   "cell_type": "code",
   "execution_count": 51,
   "id": "bb6983cc",
   "metadata": {},
   "outputs": [
    {
     "name": "stdout",
     "output_type": "stream",
     "text": [
      "(11914, 47135)\n",
      "(11914,)\n"
     ]
    }
   ],
   "source": [
    "print (X.shape)\n",
    "print (y.shape)"
   ]
  },
  {
   "cell_type": "markdown",
   "id": "f5528bd1",
   "metadata": {},
   "source": [
    "### Training and Testing the Model"
   ]
  },
  {
   "cell_type": "code",
   "execution_count": 68,
   "id": "066f14a4",
   "metadata": {},
   "outputs": [],
   "source": [
    "# Splitting it into training and testing data \n",
    "from sklearn.model_selection import train_test_split\n",
    "X_train, X_test, y_train, y_test = train_test_split (X, y, test_size=0.2, random_state=1)"
   ]
  },
  {
   "cell_type": "code",
   "execution_count": 69,
   "id": "ee877e2b",
   "metadata": {},
   "outputs": [
    {
     "data": {
      "text/plain": [
       "MultinomialNB()"
      ]
     },
     "execution_count": 69,
     "metadata": {},
     "output_type": "execute_result"
    }
   ],
   "source": [
    "# Training the model\n",
    "model = naive_bayes.MultinomialNB()\n",
    "model.fit(X_train, y_train)"
   ]
  },
  {
   "cell_type": "code",
   "execution_count": 70,
   "id": "45aa3a5f",
   "metadata": {},
   "outputs": [],
   "source": [
    "# Predicting the model\n",
    "y_predicted = model.predict(X_test)"
   ]
  },
  {
   "cell_type": "markdown",
   "id": "b36345a0",
   "metadata": {},
   "source": [
    "### Classification Report"
   ]
  },
  {
   "cell_type": "code",
   "execution_count": 72,
   "id": "cc47eafb",
   "metadata": {},
   "outputs": [
    {
     "name": "stdout",
     "output_type": "stream",
     "text": [
      "              precision    recall  f1-score   support\n",
      "\n",
      "           0       0.81      0.84      0.82      1163\n",
      "           1       0.84      0.81      0.83      1220\n",
      "\n",
      "    accuracy                           0.82      2383\n",
      "   macro avg       0.82      0.82      0.82      2383\n",
      "weighted avg       0.83      0.82      0.82      2383\n",
      "\n"
     ]
    }
   ],
   "source": [
    "#Observing classification report\n",
    "from sklearn.metrics import classification_report\n",
    "print (classification_report(y_test, y_predicted))"
   ]
  },
  {
   "cell_type": "markdown",
   "id": "a5221d32",
   "metadata": {},
   "source": [
    "### Cross validation"
   ]
  },
  {
   "cell_type": "code",
   "execution_count": 67,
   "id": "372265de",
   "metadata": {},
   "outputs": [
    {
     "data": {
      "text/html": [
       "<div>\n",
       "<style scoped>\n",
       "    .dataframe tbody tr th:only-of-type {\n",
       "        vertical-align: middle;\n",
       "    }\n",
       "\n",
       "    .dataframe tbody tr th {\n",
       "        vertical-align: top;\n",
       "    }\n",
       "\n",
       "    .dataframe thead th {\n",
       "        text-align: right;\n",
       "    }\n",
       "</style>\n",
       "<table border=\"1\" class=\"dataframe\">\n",
       "  <thead>\n",
       "    <tr style=\"text-align: right;\">\n",
       "      <th></th>\n",
       "      <th>fit_time</th>\n",
       "      <th>score_time</th>\n",
       "      <th>test_score</th>\n",
       "    </tr>\n",
       "  </thead>\n",
       "  <tbody>\n",
       "    <tr>\n",
       "      <th>0</th>\n",
       "      <td>0.025033</td>\n",
       "      <td>0.0</td>\n",
       "      <td>0.822912</td>\n",
       "    </tr>\n",
       "    <tr>\n",
       "      <th>1</th>\n",
       "      <td>0.032006</td>\n",
       "      <td>0.0</td>\n",
       "      <td>0.830885</td>\n",
       "    </tr>\n",
       "    <tr>\n",
       "      <th>2</th>\n",
       "      <td>0.024677</td>\n",
       "      <td>0.0</td>\n",
       "      <td>0.825010</td>\n",
       "    </tr>\n",
       "    <tr>\n",
       "      <th>3</th>\n",
       "      <td>0.024697</td>\n",
       "      <td>0.0</td>\n",
       "      <td>0.825850</td>\n",
       "    </tr>\n",
       "    <tr>\n",
       "      <th>4</th>\n",
       "      <td>0.023772</td>\n",
       "      <td>0.0</td>\n",
       "      <td>0.824937</td>\n",
       "    </tr>\n",
       "  </tbody>\n",
       "</table>\n",
       "</div>"
      ],
      "text/plain": [
       "   fit_time  score_time  test_score\n",
       "0  0.025033         0.0    0.822912\n",
       "1  0.032006         0.0    0.830885\n",
       "2  0.024677         0.0    0.825010\n",
       "3  0.024697         0.0    0.825850\n",
       "4  0.023772         0.0    0.824937"
      ]
     },
     "execution_count": 67,
     "metadata": {},
     "output_type": "execute_result"
    }
   ],
   "source": [
    "#Using cross validation to check the accuracy of the model \n",
    "from sklearn.model_selection import cross_validate\n",
    "model_accuracy_scores = cross_validate(model, X, y, cv=5)\n",
    "model_accuracy_score= pd.DataFrame(model_accuracy_scores)\n",
    "model_accuracy_score"
   ]
  },
  {
   "cell_type": "markdown",
   "id": "86adc337",
   "metadata": {},
   "source": [
    "## The End"
   ]
  }
 ],
 "metadata": {
  "kernelspec": {
   "display_name": "Python 3 (ipykernel)",
   "language": "python",
   "name": "python3"
  },
  "language_info": {
   "codemirror_mode": {
    "name": "ipython",
    "version": 3
   },
   "file_extension": ".py",
   "mimetype": "text/x-python",
   "name": "python",
   "nbconvert_exporter": "python",
   "pygments_lexer": "ipython3",
   "version": "3.9.7"
  }
 },
 "nbformat": 4,
 "nbformat_minor": 5
}
